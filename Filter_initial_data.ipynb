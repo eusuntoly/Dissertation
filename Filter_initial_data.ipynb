{
 "cells": [
  {
   "cell_type": "code",
   "execution_count": 1,
   "metadata": {},
   "outputs": [],
   "source": [
    "import pandas as pd\n",
    "pd.options.display.max_columns = None\n",
    "pd.options.display.max_rows = None"
   ]
  },
  {
   "cell_type": "code",
   "execution_count": 2,
   "metadata": {},
   "outputs": [],
   "source": [
    "df = pd.read_csv(\"en.openfoodfacts.org.products.csv\", sep='\\t', low_memory=False)"
   ]
  },
  {
   "cell_type": "code",
   "execution_count": 3,
   "metadata": {},
   "outputs": [
    {
     "data": {
      "text/plain": [
       "(1698061, 184)"
      ]
     },
     "execution_count": 3,
     "metadata": {},
     "output_type": "execute_result"
    }
   ],
   "source": [
    "df.shape"
   ]
  },
  {
   "cell_type": "code",
   "execution_count": 4,
   "metadata": {},
   "outputs": [
    {
     "data": {
      "text/plain": [
       "code                                                0\n",
       "url                                                 0\n",
       "creator                                             4\n",
       "created_t                                           0\n",
       "created_datetime                                    0\n",
       "last_modified_t                                     0\n",
       "last_modified_datetime                              0\n",
       "product_name                                    75568\n",
       "abbreviated_product_name                      1695172\n",
       "generic_name                                  1585870\n",
       "quantity                                      1248770\n",
       "packaging                                     1421983\n",
       "packaging_tags                                1422008\n",
       "packaging_text                                1695031\n",
       "brands                                         800108\n",
       "brands_tags                                    800162\n",
       "categories                                     871131\n",
       "categories_tags                                871135\n",
       "categories_en                                  871135\n",
       "origins                                       1623963\n",
       "origins_tags                                  1624081\n",
       "origins_en                                    1624081\n",
       "manufacturing_places                          1587889\n",
       "manufacturing_places_tags                     1587938\n",
       "labels                                        1315815\n",
       "labels_tags                                   1315793\n",
       "labels_en                                     1315793\n",
       "emb_codes                                     1588555\n",
       "emb_codes_tags                                1588584\n",
       "first_packaging_code_geo                      1630729\n",
       "cities                                        1698061\n",
       "cities_tags                                   1625452\n",
       "purchase_places                               1548739\n",
       "stores                                        1481404\n",
       "countries                                        5210\n",
       "countries_tags                                   5214\n",
       "countries_en                                     5214\n",
       "ingredients_text                              1016608\n",
       "allergens                                     1518610\n",
       "allergens_en                                  1698061\n",
       "traces                                        1605721\n",
       "traces_tags                                   1583147\n",
       "traces_en                                     1583147\n",
       "serving_size                                  1235122\n",
       "serving_quantity                              1240253\n",
       "no_nutriments                                 1698061\n",
       "additives_n                                   1016607\n",
       "additives                                     1698061\n",
       "additives_tags                                1302666\n",
       "additives_en                                  1302666\n",
       "ingredients_from_palm_oil_n                   1016607\n",
       "ingredients_from_palm_oil                     1698061\n",
       "ingredients_from_palm_oil_tags                1684129\n",
       "ingredients_that_may_be_from_palm_oil_n       1016607\n",
       "ingredients_that_may_be_from_palm_oil         1698061\n",
       "ingredients_that_may_be_from_palm_oil_tags    1658134\n",
       "nutriscore_score                              1054368\n",
       "nutriscore_grade                              1054368\n",
       "nova_group                                    1101710\n",
       "pnns_groups_1                                   16462\n",
       "pnns_groups_2                                     550\n",
       "states                                              0\n",
       "states_tags                                         0\n",
       "states_en                                           0\n",
       "brand_owner                                   1408640\n",
       "main_category                                  871135\n",
       "main_category_en                               871135\n",
       "image_url                                      441109\n",
       "image_small_url                                441109\n",
       "image_ingredients_url                         1029181\n",
       "image_ingredients_small_url                   1029181\n",
       "image_nutrition_url                            889183\n",
       "image_nutrition_small_url                      889183\n",
       "energy-kj_100g                                1573944\n",
       "energy-kcal_100g                               405119\n",
       "energy_100g                                    348073\n",
       "energy-from-fat_100g                          1697086\n",
       "fat_100g                                       356342\n",
       "saturated-fat_100g                             400302\n",
       "-butyric-acid_100g                            1698049\n",
       "-caproic-acid_100g                            1698059\n",
       "-caprylic-acid_100g                           1698058\n",
       "-capric-acid_100g                             1698053\n",
       "-lauric-acid_100g                             1698047\n",
       "-myristic-acid_100g                           1698056\n",
       "-palmitic-acid_100g                           1698049\n",
       "-stearic-acid_100g                            1698056\n",
       "-arachidic-acid_100g                          1697989\n",
       "-behenic-acid_100g                            1698032\n",
       "-lignoceric-acid_100g                         1698060\n",
       "-cerotic-acid_100g                            1698054\n",
       "-montanic-acid_100g                           1698050\n",
       "-melissic-acid_100g                           1698054\n",
       "monounsaturated-fat_100g                      1650750\n",
       "polyunsaturated-fat_100g                      1650752\n",
       "omega-3-fat_100g                              1696114\n",
       "-alpha-linolenic-acid_100g                    1697606\n",
       "-eicosapentaenoic-acid_100g                   1697944\n",
       "-docosahexaenoic-acid_100g                    1697895\n",
       "omega-6-fat_100g                              1697574\n",
       "-linoleic-acid_100g                           1697830\n",
       "-arachidonic-acid_100g                        1697992\n",
       "-gamma-linolenic-acid_100g                    1698053\n",
       "-dihomo-gamma-linolenic-acid_100g             1698059\n",
       "omega-9-fat_100g                              1697983\n",
       "-oleic-acid_100g                              1698015\n",
       "-elaidic-acid_100g                            1698059\n",
       "-gondoic-acid_100g                            1698050\n",
       "-mead-acid_100g                               1698056\n",
       "-erucic-acid_100g                             1698058\n",
       "-nervonic-acid_100g                           1698057\n",
       "trans-fat_100g                                1433578\n",
       "cholesterol_100g                              1429779\n",
       "carbohydrates_100g                             356706\n",
       "sugars_100g                                    374824\n",
       "-sucrose_100g                                 1697929\n",
       "-glucose_100g                                 1697990\n",
       "-fructose_100g                                1697983\n",
       "-lactose_100g                                 1697302\n",
       "-maltose_100g                                 1698034\n",
       "-maltodextrins_100g                           1698001\n",
       "starch_100g                                   1697568\n",
       "polyols_100g                                  1694528\n",
       "fiber_100g                                    1234735\n",
       "-soluble-fiber_100g                           1694454\n",
       "-insoluble-fiber_100g                         1694725\n",
       "proteins_100g                                  355299\n",
       "casein_100g                                   1698019\n",
       "serum-proteins_100g                           1698016\n",
       "nucleotides_100g                              1698044\n",
       "salt_100g                                      396301\n",
       "sodium_100g                                    396305\n",
       "alcohol_100g                                  1678933\n",
       "vitamin-a_100g                                1485936\n",
       "beta-carotene_100g                            1697978\n",
       "vitamin-d_100g                                1688599\n",
       "vitamin-e_100g                                1694781\n",
       "vitamin-k_100g                                1696960\n",
       "vitamin-c_100g                                1478341\n",
       "vitamin-b1_100g                               1674716\n",
       "vitamin-b2_100g                               1675615\n",
       "vitamin-pp_100g                               1674518\n",
       "vitamin-b6_100g                               1682270\n",
       "vitamin-b9_100g                               1687998\n",
       "folates_100g                                  1689618\n",
       "vitamin-b12_100g                              1685551\n",
       "biotin_100g                                   1697034\n",
       "pantothenic-acid_100g                         1692089\n",
       "silica_100g                                   1697945\n",
       "bicarbonate_100g                              1697689\n",
       "potassium_100g                                1606303\n",
       "chloride_100g                                 1697384\n",
       "calcium_100g                                  1428525\n",
       "phosphorus_100g                               1684420\n",
       "iron_100g                                     1433697\n",
       "magnesium_100g                                1683511\n",
       "zinc_100g                                     1687979\n",
       "copper_100g                                   1693825\n",
       "manganese_100g                                1694065\n",
       "fluoride_100g                                 1697740\n",
       "selenium_100g                                 1695627\n",
       "chromium_100g                                 1697877\n",
       "molybdenum_100g                               1697805\n",
       "iodine_100g                                   1695981\n",
       "caffeine_100g                                 1697643\n",
       "taurine_100g                                  1697909\n",
       "ph_100g                                       1697877\n",
       "fruits-vegetables-nuts_100g                   1689279\n",
       "fruits-vegetables-nuts-dried_100g             1697714\n",
       "fruits-vegetables-nuts-estimate_100g          1686339\n",
       "collagen-meat-protein-ratio_100g              1697753\n",
       "cocoa_100g                                    1692215\n",
       "chlorophyl_100g                               1698056\n",
       "carbon-footprint_100g                         1697606\n",
       "carbon-footprint-from-meat-or-fish_100g       1686452\n",
       "nutrition-score-fr_100g                       1054368\n",
       "nutrition-score-uk_100g                       1698061\n",
       "glycemic-index_100g                           1698057\n",
       "water-hardness_100g                           1698061\n",
       "choline_100g                                  1698021\n",
       "phylloquinone_100g                            1696348\n",
       "beta-glucan_100g                              1698031\n",
       "inositol_100g                                 1698015\n",
       "carnitine_100g                                1698041\n",
       "dtype: int64"
      ]
     },
     "execution_count": 4,
     "metadata": {},
     "output_type": "execute_result"
    }
   ],
   "source": [
    "df.isna().sum()"
   ]
  },
  {
   "cell_type": "code",
   "execution_count": 4,
   "metadata": {},
   "outputs": [],
   "source": [
    "df.dropna(subset=[\"nutriscore_score\"], inplace=True)"
   ]
  },
  {
   "cell_type": "code",
   "execution_count": 5,
   "metadata": {},
   "outputs": [
    {
     "data": {
      "text/plain": [
       "(470674, 184)"
      ]
     },
     "execution_count": 5,
     "metadata": {},
     "output_type": "execute_result"
    }
   ],
   "source": [
    "df.dropna(subset=[\"ingredients_text\"], inplace=True)\n",
    "df.shape"
   ]
  },
  {
   "cell_type": "code",
   "execution_count": 6,
   "metadata": {},
   "outputs": [],
   "source": [
    "df.to_csv(\"foods.csv\", index=False)"
   ]
  },
  {
   "cell_type": "code",
   "execution_count": null,
   "metadata": {},
   "outputs": [],
   "source": []
  }
 ],
 "metadata": {
  "kernelspec": {
   "display_name": "Python 3",
   "language": "python",
   "name": "python3"
  },
  "language_info": {
   "codemirror_mode": {
    "name": "ipython",
    "version": 3
   },
   "file_extension": ".py",
   "mimetype": "text/x-python",
   "name": "python",
   "nbconvert_exporter": "python",
   "pygments_lexer": "ipython3",
   "version": "3.7.9"
  }
 },
 "nbformat": 4,
 "nbformat_minor": 4
}
