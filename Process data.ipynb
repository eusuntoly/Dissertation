{
 "cells": [
  {
   "cell_type": "code",
   "execution_count": 1,
   "metadata": {},
   "outputs": [],
   "source": [
    "import pandas as pd\n",
    "import numpy as np\n",
    "from joblib import dump\n",
    "from sklearn.model_selection import train_test_split\n",
    "pd.options.display.max_columns = None\n",
    "pd.options.display.max_rows = None"
   ]
  },
  {
   "cell_type": "code",
   "execution_count": 2,
   "metadata": {},
   "outputs": [],
   "source": [
    "df = pd.read_csv(\"foods_lang.csv\", low_memory=False)"
   ]
  },
  {
   "cell_type": "code",
   "execution_count": 3,
   "metadata": {},
   "outputs": [],
   "source": [
    "df = df[df[\"lang\"] == \"en\"]"
   ]
  },
  {
   "cell_type": "code",
   "execution_count": 4,
   "metadata": {},
   "outputs": [],
   "source": [
    "#df.isna().sum()"
   ]
  },
  {
   "cell_type": "code",
   "execution_count": 5,
   "metadata": {},
   "outputs": [],
   "source": [
    "df = df[[\"ingredients_text\", \"additives_n\", \"nutriscore_score\", \"nutriscore_grade\", \"fat_100g\", \"saturated-fat_100g\", \"carbohydrates_100g\", \"sugars_100g\", \"proteins_100g\", \"salt_100g\"]]"
   ]
  },
  {
   "cell_type": "code",
   "execution_count": 6,
   "metadata": {},
   "outputs": [],
   "source": [
    "df.dropna(subset=[\"fat_100g\", \"saturated-fat_100g\", \"carbohydrates_100g\", \"sugars_100g\", \"proteins_100g\", \"salt_100g\"], inplace=True)"
   ]
  },
  {
   "cell_type": "code",
   "execution_count": 8,
   "metadata": {},
   "outputs": [],
   "source": [
    "fats = [float(x) for x in df[\"fat_100g\"]]\n",
    "carbs = [float(x) for x in df[\"carbohydrates_100g\"]]\n",
    "proteins = [float(x) for x in df[\"proteins_100g\"]]"
   ]
  },
  {
   "cell_type": "code",
   "execution_count": 9,
   "metadata": {},
   "outputs": [],
   "source": [
    "from sklearn import preprocessing\n",
    "le = preprocessing.LabelEncoder()\n",
    "le.fit(['a', 'b', 'c', 'd', 'e'])\n",
    "grade = le.transform(df[\"nutriscore_grade\"])\n",
    "\n",
    "le = preprocessing.LabelEncoder()\n",
    "le.fit(list(set(df[\"nutriscore_score\"])))\n",
    "score = le.transform(df[\"nutriscore_score\"])"
   ]
  },
  {
   "cell_type": "code",
   "execution_count": 7,
   "metadata": {},
   "outputs": [],
   "source": [
    "import re\n",
    "def extract_ingredients(text):\n",
    "    text = re.split(\", | \\(|\\)|\\[|\\]\", text)\n",
    "    text = [x.replace(\"from \", \"\") for x in text]\n",
    "    text = [x.replace(\"_\", \"\") for x in text]\n",
    "    text = [re.sub(r'\\d+\\.\\d+%', \"\", x) for x in text]\n",
    "    text = [re.sub(r'\\d+\\,\\d+%', \"\", x) for x in text]\n",
    "    text = [re.sub(r'\\d+%', \"\", x) for x in text]\n",
    "    text = [re.sub(\"^\\s+|\\s+$\", \"\", x, flags=re.UNICODE) for x in text]\n",
    "    text = [x.replace(\".\", \"\") for x in text]\n",
    "    text = [x.replace(\"fd&c \", \"\") for x in text]\n",
    "    text = [x for x in text if len(x) > 1]\n",
    "    text = [x.lower() for x in text]\n",
    "    return text"
   ]
  },
  {
   "cell_type": "code",
   "execution_count": 8,
   "metadata": {},
   "outputs": [],
   "source": [
    "products = []\n",
    "for x in list(df[\"ingredients_text\"]):\n",
    "     products.append(extract_ingredients(x))"
   ]
  },
  {
   "cell_type": "code",
   "execution_count": 9,
   "metadata": {},
   "outputs": [],
   "source": [
    "ingredients = []\n",
    "for p in products:\n",
    "    ingredients += p"
   ]
  },
  {
   "cell_type": "code",
   "execution_count": 11,
   "metadata": {},
   "outputs": [
    {
     "data": {
      "text/plain": [
       "2     c\n",
       "20    c\n",
       "21    d\n",
       "22    d\n",
       "24    d\n",
       "25    d\n",
       "48    d\n",
       "49    d\n",
       "50    c\n",
       "51    c\n",
       "Name: nutriscore_grade, dtype: object"
      ]
     },
     "execution_count": 11,
     "metadata": {},
     "output_type": "execute_result"
    }
   ],
   "source": [
    "Counter(df[\"nutriscore_grade\"])"
   ]
  },
  {
   "cell_type": "code",
   "execution_count": 13,
   "metadata": {},
   "outputs": [
    {
     "data": {
      "text/plain": [
       "LabelEncoder()"
      ]
     },
     "execution_count": 13,
     "metadata": {},
     "output_type": "execute_result"
    }
   ],
   "source": [
    "le_ingr = preprocessing.LabelEncoder()\n",
    "le_ingr.fit(list(set(ingredients)))"
   ]
  },
  {
   "cell_type": "code",
   "execution_count": 14,
   "metadata": {},
   "outputs": [
    {
     "name": "stdout",
     "output_type": "stream",
     "text": [
      "Wall time: 13.6 s\n"
     ]
    }
   ],
   "source": [
    "%%time\n",
    "ingredients = le_ingr.transform(ingredients)"
   ]
  },
  {
   "cell_type": "code",
   "execution_count": 15,
   "metadata": {},
   "outputs": [
    {
     "name": "stdout",
     "output_type": "stream",
     "text": [
      "Wall time: 187 ms\n"
     ]
    }
   ],
   "source": [
    "%%time\n",
    "start = 0\n",
    "products_encoded = []\n",
    "for x in products:\n",
    "    products_encoded.append(ingredients[start:start+len(x)])\n",
    "    start += len(x)"
   ]
  },
  {
   "cell_type": "code",
   "execution_count": 16,
   "metadata": {},
   "outputs": [
    {
     "data": {
      "text/plain": [
       "['processed_data/ingredients_encoder.joblib']"
      ]
     },
     "execution_count": 16,
     "metadata": {},
     "output_type": "execute_result"
    }
   ],
   "source": [
    "dump(le_ingr, \"processed_data/ingredients_encoder.joblib\")"
   ]
  },
  {
   "cell_type": "code",
   "execution_count": 17,
   "metadata": {},
   "outputs": [],
   "source": [
    "with open(\"processed_data/ingredients.npy\", \"wb\") as f:\n",
    "    np.save(f, np.array(ingredients, dtype=object))\n",
    "\n",
    "with open(\"processed_data/products.npy\", \"wb\") as f:\n",
    "    np.save(f, np.array(products_encoded, dtype=object))"
   ]
  },
  {
   "cell_type": "code",
   "execution_count": 18,
   "metadata": {},
   "outputs": [],
   "source": [
    "with open(\"processed_data/grade.npy\", \"wb\") as f:\n",
    "    np.save(f, np.array(score))\n",
    "\n",
    "with open(\"processed_data/score.npy\", \"wb\") as f:\n",
    "    np.save(f, np.array(grade))"
   ]
  },
  {
   "cell_type": "code",
   "execution_count": 19,
   "metadata": {},
   "outputs": [],
   "source": [
    "with open(\"processed_data/fats.npy\", \"wb\") as f:\n",
    "    np.save(f, np.array(fats))\n",
    "\n",
    "with open(\"processed_data/carbs.npy\", \"wb\") as f:\n",
    "    np.save(f, np.array(carbs))\n",
    "\n",
    "with open(\"processed_data/proteins.npy\", \"wb\") as f:\n",
    "    np.save(f, np.array(proteins))"
   ]
  },
  {
   "cell_type": "code",
   "execution_count": null,
   "metadata": {},
   "outputs": [],
   "source": []
  }
 ],
 "metadata": {
  "kernelspec": {
   "display_name": "Python 3",
   "language": "python",
   "name": "python3"
  },
  "language_info": {
   "codemirror_mode": {
    "name": "ipython",
    "version": 3
   },
   "file_extension": ".py",
   "mimetype": "text/x-python",
   "name": "python",
   "nbconvert_exporter": "python",
   "pygments_lexer": "ipython3",
   "version": "3.7.9"
  }
 },
 "nbformat": 4,
 "nbformat_minor": 4
}
